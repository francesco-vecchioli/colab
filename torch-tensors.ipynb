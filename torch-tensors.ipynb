{
  "nbformat": 4,
  "nbformat_minor": 0,
  "metadata": {
    "colab": {
      "name": "Untitled0.ipynb",
      "provenance": [],
      "authorship_tag": "ABX9TyPfWr2+pvIuI5aH7qyiEvTP",
      "include_colab_link": true
    },
    "kernelspec": {
      "name": "python3",
      "display_name": "Python 3"
    }
  },
  "cells": [
    {
      "cell_type": "markdown",
      "metadata": {
        "id": "view-in-github",
        "colab_type": "text"
      },
      "source": [
        "<a href=\"https://colab.research.google.com/github/francesco-vecchioli/colab/blob/main/torch-tensors.ipynb\" target=\"_parent\"><img src=\"https://colab.research.google.com/assets/colab-badge.svg\" alt=\"Open In Colab\"/></a>"
      ]
    },
    {
      "cell_type": "code",
      "metadata": {
        "id": "sj-LhJo2MDR1"
      },
      "source": [
        "import torch  \n",
        "torch.__version__\n",
        "\n",
        "import numpy as np"
      ],
      "execution_count": 1,
      "outputs": []
    },
    {
      "cell_type": "code",
      "metadata": {
        "id": "pBFMh62sNA_W"
      },
      "source": [
        "from typing import Union\n",
        "\n",
        "# Utility print function\n",
        "def print_arr(*arr: Union[torch.Tensor, np.ndarray], prefix: str = \"\") -> None:\n",
        "    \"\"\" Pretty print tensors, together with their shape and type\n",
        "    \n",
        "    :param arr: one or more tensors\n",
        "    :param prefix: prefix to use when printing the tensors\n",
        "    \"\"\"\n",
        "    print(\n",
        "        \"\\n\\n\".join(\n",
        "            f\"{prefix}{str(x)} <shape: {x.shape}> <dtype: {x.dtype}>\" for x in arr\n",
        "        )\n",
        "    )"
      ],
      "execution_count": 2,
      "outputs": []
    },
    {
      "cell_type": "code",
      "metadata": {
        "id": "lptwW_VBMRmP",
        "outputId": "6ca214b2-e2f3-4d4b-e894-f7a88fb4a231",
        "colab": {
          "base_uri": "https://localhost:8080/"
        }
      },
      "source": [
        "v1 = torch.arange(0.0, 1.0, 0.1, dtype=torch.float64)\n",
        "v2 = torch.arange(0.0, 0.6, 0.1, dtype=torch.float64)\n",
        "out = v1[:, None] + v2[None, :]\n",
        "print_arr(v1, v2, out)\n"
      ],
      "execution_count": 29,
      "outputs": [
        {
          "output_type": "stream",
          "text": [
            "tensor([0.0000, 0.1000, 0.2000, 0.3000, 0.4000, 0.5000, 0.6000, 0.7000, 0.8000,\n",
            "        0.9000], dtype=torch.float64) <shape: torch.Size([10])> <dtype: torch.float64>\n",
            "\n",
            "tensor([0.0000, 0.1000, 0.2000, 0.3000, 0.4000, 0.5000], dtype=torch.float64) <shape: torch.Size([6])> <dtype: torch.float64>\n",
            "\n",
            "tensor([[0.0000, 0.1000, 0.2000, 0.3000, 0.4000, 0.5000],\n",
            "        [0.1000, 0.2000, 0.3000, 0.4000, 0.5000, 0.6000],\n",
            "        [0.2000, 0.3000, 0.4000, 0.5000, 0.6000, 0.7000],\n",
            "        [0.3000, 0.4000, 0.5000, 0.6000, 0.7000, 0.8000],\n",
            "        [0.4000, 0.5000, 0.6000, 0.7000, 0.8000, 0.9000],\n",
            "        [0.5000, 0.6000, 0.7000, 0.8000, 0.9000, 1.0000],\n",
            "        [0.6000, 0.7000, 0.8000, 0.9000, 1.0000, 1.1000],\n",
            "        [0.7000, 0.8000, 0.9000, 1.0000, 1.1000, 1.2000],\n",
            "        [0.8000, 0.9000, 1.0000, 1.1000, 1.2000, 1.3000],\n",
            "        [0.9000, 1.0000, 1.1000, 1.2000, 1.3000, 1.4000]], dtype=torch.float64) <shape: torch.Size([10, 6])> <dtype: torch.float64>\n"
          ],
          "name": "stdout"
        }
      ]
    },
    {
      "cell_type": "code",
      "metadata": {
        "id": "z2q-71TiNEnf",
        "outputId": "3fde1f62-69eb-4a00-a025-ec583908ab86",
        "colab": {
          "base_uri": "https://localhost:8080/"
        }
      },
      "source": [
        "def lp(shape, a=5, b=1, p=1):\n",
        "  x_arr = torch.arange(shape[0])[None, :]\n",
        "  y_arr = torch.arange(shape[1])[:, None]\n",
        "  return torch.pow(torch.pow(x_arr - a, p) + torch.pow(y_arr - b, p), 1/p)\n",
        "\n",
        "\n",
        "print_arr(lp((10,3), p=0.3))"
      ],
      "execution_count": 39,
      "outputs": [
        {
          "output_type": "stream",
          "text": [
            "tensor([[    nan,     nan,     nan,     nan,     nan,     nan,     nan,     nan,\n",
            "             nan,     nan],\n",
            "        [    nan,     nan,     nan,     nan,     nan,  0.0000,  1.0000,  2.0000,\n",
            "          3.0000,  4.0000],\n",
            "        [    nan,     nan,     nan,     nan,     nan,  1.0000, 10.0794, 14.5131,\n",
            "         18.2626, 21.6540]]) <shape: torch.Size([3, 10])> <dtype: torch.float32>\n"
          ],
          "name": "stdout"
        }
      ]
    },
    {
      "cell_type": "code",
      "metadata": {
        "id": "nI0ojT_SUETS"
      },
      "source": [
        ""
      ],
      "execution_count": null,
      "outputs": []
    }
  ]
}